{
 "cells": [
  {
   "cell_type": "markdown",
   "id": "a45595b6",
   "metadata": {},
   "source": [
    "# Genome-scale reconstruction workflow"
   ]
  },
  {
   "cell_type": "markdown",
   "id": "902750f6",
   "metadata": {},
   "source": [
    "This notebook serves as a step-by-step workflow for improving or reconstructing metabolic models and showcasing the functionality of the MetMod library.\n",
    "\n",
    "It is a part of a bachelor's thesis, where the theoretical aspects of metabolic model reconstruction are introduced and discussed."
   ]
  },
  {
   "cell_type": "markdown",
   "id": "fd25490e",
   "metadata": {
    "vscode": {
     "languageId": "plaintext"
    }
   },
   "source": [
    "## 0. Dependencies and setup"
   ]
  },
  {
   "cell_type": "markdown",
   "id": "4f73670f",
   "metadata": {},
   "source": [
    "We recommend using Python 3.9 as this version's functionality has been tested.\n",
    "\n",
    "The following libraries are required:\n",
    "* cobra, escher, networkx, matplotlib, XlsxWriter, pandas, numpy, openpyxl\n",
    "\n",
    "Additional:\n",
    "* ModelPolisher, efmtool, Cplex\n",
    "* libsbml - https://sbml.org/software/libsbml/libsbml-docs/installation/\n",
    "\n",
    "If there are any problems with Escher visualisation, refer to https://escher.readthedocs.io/en/latest/escher-python.html#Installation, as further Jupyter extensions may be required. When using a conda environment, make sure Jupyter is installed inside it. These commands worked when testing:\n",
    "* jupyter labextension install @jupyter-widgets/jupyterlab-manager\n",
    "* jupyter labextension install escher\n",
    "\n",
    "We recommend using the academic or commercial license of Cplex for optimisation; the free version will not work due to the size of metabolic models."
   ]
  },
  {
   "cell_type": "markdown",
   "id": "b3904b3b",
   "metadata": {},
   "source": [
    "Using a Conda environment is encouraged; the following cell contains commands tested to create a Conda environment and enable Escher visualisation within a Jupyter notebook."
   ]
  },
  {
   "cell_type": "code",
   "execution_count": null,
   "id": "3d9de117",
   "metadata": {},
   "outputs": [],
   "source": [
    "# conda create --name metmod-test python=3.9 -y\n",
    "# conda activate metmod-test\n",
    "# conda install pip -y\n",
    "# conda install jupyter\n",
    "# pip install escher notebook\n",
    "# jupyter labextension install @jupyter-widgets/jupyterlab-manager\n",
    "# jupyter labextension install escher"
   ]
  },
  {
   "cell_type": "markdown",
   "id": "c4570361",
   "metadata": {},
   "source": [
    "Run the following cell in order to install dependencies"
   ]
  },
  {
   "cell_type": "code",
   "execution_count": null,
   "id": "3ac1c0dc",
   "metadata": {},
   "outputs": [],
   "source": [
    "%pip install cobra escher networkx git+https://github.com/draeger-lab/MPClient.git matplotlib xlsxwriter pandas numpy efmtool openpyxl"
   ]
  },
  {
   "cell_type": "code",
   "execution_count": 1,
   "id": "5b479406",
   "metadata": {},
   "outputs": [],
   "source": [
    "import cobra, escher, libsbml, os\n",
    "import numpy as np\n",
    "import matplotlib as plt\n",
    "import networkx as nx\n",
    "import metmod"
   ]
  },
  {
   "cell_type": "code",
   "execution_count": null,
   "id": "47fc7ba9",
   "metadata": {},
   "outputs": [],
   "source": [
    "model_name = 'core'"
   ]
  },
  {
   "cell_type": "code",
   "execution_count": null,
   "id": "606fbb96",
   "metadata": {},
   "outputs": [],
   "source": [
    "# Some models created by automated tools will have some issues, like not having flux bounds set\n",
    "# correctly, in order to suppress warnings run this cell\n",
    "import logging\n",
    "\n",
    "logging.getLogger('cobra').setLevel(logging.ERROR)"
   ]
  },
  {
   "cell_type": "markdown",
   "id": "223c19d6",
   "metadata": {},
   "source": [
    "## 1. Draft reconstruction"
   ]
  },
  {
   "cell_type": "markdown",
   "id": "ad616d9e",
   "metadata": {},
   "source": [
    "A draft reconstruction is expected as input; we recommend using an automated software designed for this purpose, such as PathwayTools - PathoLogic or CarveMe."
   ]
  },
  {
   "cell_type": "markdown",
   "id": "04d30698",
   "metadata": {},
   "source": [
    "### Standardising nomenclature"
   ]
  },
  {
   "cell_type": "markdown",
   "id": "701d5101",
   "metadata": {},
   "source": [
    "ModelPolisher is used in order to standardise and polish annotations of the draft reconstruction.\n",
    "\n",
    "**NOTE** polishing bigger models (>1000 reactions) may take up to few minutes"
   ]
  },
  {
   "cell_type": "code",
   "execution_count": null,
   "id": "29072e47",
   "metadata": {},
   "outputs": [],
   "source": [
    "input_path = os.path.join('input', 'caldimonas_core_model.xml')"
   ]
  },
  {
   "cell_type": "code",
   "execution_count": null,
   "id": "ef3d7248",
   "metadata": {},
   "outputs": [],
   "source": [
    "polished_path = os.path.join('models', f'{model_name}_polished.xml')"
   ]
  },
  {
   "cell_type": "code",
   "execution_count": null,
   "id": "5e09d792",
   "metadata": {},
   "outputs": [],
   "source": [
    "# metmod.polish_model(input_path, polished_path, print_diff=True)"
   ]
  },
  {
   "cell_type": "code",
   "execution_count": 6,
   "id": "92c75e1f",
   "metadata": {},
   "outputs": [],
   "source": [
    "# During the creation of this notebook, ModelPolisher had server connection issues\n",
    "# for multiple days, the curated model has therefore not been polished\n",
    "polished_path = input_path"
   ]
  },
  {
   "cell_type": "markdown",
   "id": "c21315b7",
   "metadata": {},
   "source": [
    "## 2. First assessment"
   ]
  },
  {
   "cell_type": "markdown",
   "id": "0c2001cd",
   "metadata": {},
   "source": [
    "In the section we will take a first look at the draft reconstruction. We highly encourage the use of Cytoscape for this step."
   ]
  },
  {
   "cell_type": "markdown",
   "id": "ec7c72ab",
   "metadata": {},
   "source": [
    "### Escher"
   ]
  },
  {
   "cell_type": "markdown",
   "id": "50c8e1d0",
   "metadata": {},
   "source": [
    "While Escher does not provide a way to visualise the entire network, it allows for easy mapping of the model to an existing visualisation.\n",
    "\n",
    "However, the IDs in the model must match the IDs in the map, depending on the software used for draft reconstruction **this approach may not work**."
   ]
  },
  {
   "cell_type": "code",
   "execution_count": 7,
   "id": "d2ee3c4c",
   "metadata": {},
   "outputs": [
    {
     "data": {
      "text/plain": [
       "[{'organism': 'Saccharomyces cerevisiae',\n",
       "  'map_name': 'iMM904.Central carbon metabolism'},\n",
       " {'organism': 'Homo sapiens',\n",
       "  'map_name': 'RECON1.Inositol retinol metabolism'},\n",
       " {'organism': 'Homo sapiens', 'map_name': 'RECON1.Glycolysis TCA PPP'},\n",
       " {'organism': 'Homo sapiens', 'map_name': 'RECON1.Tryptophan metabolism'},\n",
       " {'organism': 'Homo sapiens', 'map_name': 'RECON1.Carbohydrate metabolism'},\n",
       " {'organism': 'Homo sapiens',\n",
       "  'map_name': 'RECON1.Amino acid metabolism (partial)'},\n",
       " {'organism': 'Escherichia coli', 'map_name': 'iJO1366.Nucleotide metabolism'},\n",
       " {'organism': 'Escherichia coli',\n",
       "  'map_name': 'iJO1366.Fatty acid biosynthesis (saturated)'},\n",
       " {'organism': 'Escherichia coli',\n",
       "  'map_name': 'iJO1366.Nucleotide and histidine biosynthesis'},\n",
       " {'organism': 'Escherichia coli', 'map_name': 'e_coli_core.Core metabolism'},\n",
       " {'organism': 'Escherichia coli', 'map_name': 'iJO1366.Central metabolism'},\n",
       " {'organism': 'Escherichia coli',\n",
       "  'map_name': 'iJO1366.Fatty acid beta-oxidation'}]"
      ]
     },
     "execution_count": 7,
     "metadata": {},
     "output_type": "execute_result"
    }
   ],
   "source": [
    "# The available maps are listed by the following command.\n",
    "escher.list_available_maps()"
   ]
  },
  {
   "cell_type": "code",
   "execution_count": null,
   "id": "4f9cf6fc",
   "metadata": {},
   "outputs": [],
   "source": [
    "map_path = os.path.join('maps', 'caldimonas_core_map.json')"
   ]
  },
  {
   "cell_type": "markdown",
   "id": "9671a55c",
   "metadata": {},
   "source": [
    "Escher provides a Builder class where all settings are configured. Here we use an existing map with our model."
   ]
  },
  {
   "cell_type": "code",
   "execution_count": 9,
   "id": "4a222d09",
   "metadata": {},
   "outputs": [
    {
     "data": {
      "application/vnd.jupyter.widget-view+json": {
       "model_id": "61fca15e37434910bf98a88809d6f276",
       "version_major": 2,
       "version_minor": 0
      },
      "text/plain": [
       "Builder(highlight_missing=True)"
      ]
     },
     "metadata": {},
     "output_type": "display_data"
    }
   ],
   "source": [
    "metmod.escher_build(polished_path, map_path, highlight_missing=True)"
   ]
  },
  {
   "cell_type": "markdown",
   "id": "98221ea2",
   "metadata": {},
   "source": [
    "Reactions highlighted in red are missing from the model; however note that this may also be the cause of using different nomenclature."
   ]
  },
  {
   "cell_type": "markdown",
   "id": "6e6bc5e5",
   "metadata": {},
   "source": [
    "### Topology analysis"
   ]
  },
  {
   "cell_type": "markdown",
   "id": "9189ebc6",
   "metadata": {},
   "source": [
    "NetworkX is used for graph algorithms, some wrappers are present in MetMod."
   ]
  },
  {
   "cell_type": "code",
   "execution_count": 10,
   "id": "abdb77c4",
   "metadata": {},
   "outputs": [],
   "source": [
    "model = cobra.io.read_sbml_model(polished_path)"
   ]
  },
  {
   "cell_type": "markdown",
   "id": "c11a4fea",
   "metadata": {},
   "source": [
    "Firstly, a function that creates a directed G graph is called."
   ]
  },
  {
   "cell_type": "code",
   "execution_count": 11,
   "id": "6b9a5ba7",
   "metadata": {},
   "outputs": [],
   "source": [
    "G = metmod.create_metabolic_graph(model)"
   ]
  },
  {
   "cell_type": "code",
   "execution_count": 12,
   "id": "22311db8",
   "metadata": {},
   "outputs": [
    {
     "name": "stdout",
     "output_type": "stream",
     "text": [
      "Highest degree nodes:\n",
      "[('Biomass_putida_core_2', 79), ('Biomass', 64), ('h_c', 52), ('h2o_c', 35), ('atp_c', 27), ('adp_c', 26), ('pi_c', 24), ('Biomass_ecoli_core', 23), ('nad_c', 22), ('nadh_c', 21), ('coa_c', 17), ('g3p_c', 14), ('pyr_c', 14), ('GLUDxi', 14), ('GLUDy', 14), ('nadp_c', 12), ('ACALD', 12), ('ATPS4rpp', 12), ('GAPD', 12), ('SUCOAS', 12), ('accoa_c', 11), ('glu__L_c', 11), ('h_p', 11), ('nadph_c', 11), ('nh4_c', 11), ('pep_c', 11), ('co2_c', 10), ('ALCD2x', 10), ('ICDHyr', 10), ('MDH', 10), ('LDH_L', 10), ('PHAb', 10), ('f6p_c', 9), ('q8h2_c', 9), ('akg_c', 8), ('mal__L_c', 8), ('q8_c', 8), ('GAD2ktpp', 8), ('PGK', 8), ('PTAr', 8), ('TALA', 8), ('TKT1', 8), ('TKT2', 8), ('gln__L_c', 7), ('h2o_p', 7), ('xu5p__D_c', 7), ('PPS', 7), ('GLCabc', 7), ('GLNabc', 7), ('GLNabcpp', 7), ('GLNS', 7), ('GLUabc', 7), ('XYLabc', 7), ('XYLabcpp', 7), ('co2_p', 6), ('dhap_c', 6), ('nh4_e', 6), ('oaa_c', 6), ('succ_c', 6), ('ACONTa', 6), ('ACONTb', 6), ('ADK1', 6), ('AKGDH', 6), ('CS', 6), ('CYO1_KT', 6), ('CYTCAA3pp', 6), ('ENO', 6), ('FBA', 6), ('FUM', 6), ('GLCDpp', 6), ('MALS', 6), ('PDH', 6), ('PPC', 6), ('THD2pp', 6), ('CYTBD', 6), ('FBA2', 6), ('FDH4pp', 6), ('FDH5r2pp', 6), ('PHAa', 6), ('PHAc', 6), ('3pg_c', 5), ('e4p_c', 5), ('fru_e', 5), ('fum_c', 5), ('g6p_c', 5), ('glc__D_e', 5), ('gln__L_e', 5), ('glu__L_e', 5), ('h2o_e', 5), ('h_e', 5), ('icit_c', 5), ('nh4_p', 5), ('r5p_c', 5), ('GNK', 5), ('HEX1', 5), ('ME2', 5), ('NADH5', 5), ('PPCK', 5), ('PYK', 5), ('2DGLCNRx', 5), ('ATPM', 5), ('ME1', 5), ('PFK', 5), ('PYK2', 5), ('XYLK', 5), ('13dpg_c', 4), ('2pg_c', 4), ('3hbcoa__R_c', 4), ('aacoa_c', 4), ('acald_c', 4), ('acon_C_c', 4), ('cellb_e', 4), ('co2_e', 4), ('etoh_c', 4), ('f1p_c', 4), ('fdp_c', 4), ('for_e', 4), ('for_p', 4), ('gln__L_p', 4), ('glu__L_p', 4), ('na1_c', 4), ('o2_c', 4), ('o2_e', 4), ('o2_p', 4), ('pyr_e', 4), ('ru5p__D_c', 4), ('s7p_c', 4), ('succoa_c', 4), ('xyl__D_c', 4), ('xyl__D_e', 4), ('CO2tex', 4), ('CO2tpp', 4), ('ETOHtrpp', 4), ('FBP', 4), ('FRUptspp', 4), ('GLUNpp', 4), ('GLUt2rpp', 4), ('H2Otex', 4), ('H2Otpp', 4), ('NADTRHD', 4), ('NH4tex', 4), ('NH4tpp', 4), ('O2tex', 4), ('O2tpp', 4), ('PGI', 4), ('PGM', 4), ('PPK', 4), ('PYRt2rpp', 4), ('RPE', 4), ('RPI', 4), ('SUCDi', 4), ('TPI', 4), ('2DHGLCNkt_tpp', 4), ('ALCDpp', 4), ('FORtex', 4), ('FRD2', 4), ('FRUpts', 4), ('FRUtex', 4), ('GLCpts', 4), ('GLNtex', 4), ('GLUN', 4), ('GLUtex', 4), ('HMR_9610', 4), ('L_LACt3', 4), ('MALt4', 4), ('MFUMt8', 4), ('NH4t', 4), ('PIt2r', 4), ('PYRtex', 4), ('XYLI1', 4), ('CLBtex', 4), ('XYLtex', 4), ('2dhglcn_p', 3), ('amp_c', 3), ('cellb_p', 3), ('cit_c', 3), ('etoh_p', 3), ('fru_p', 3), ('fum_e', 3), ('glcn_p', 3), ('lac__L_c', 3), ('lac__L_e', 3), ('mal__L_e', 3), ('mql8_c', 3), ('na1_e', 3), ('pi_e', 3), ('ppi_c', 3), ('pyr_p', 3), ('succ_e', 3), ('utp_c', 3), ('xyl__D_p', 3), ('xylu__D_c', 3), ('EDA', 3), ('EDD', 3), ('ICL', 3), ('BG_CELLB', 3), ('BGLApp', 3), ('10fthf_c', 2), ('2ddg6p_c', 2), ('2dhglcn_c', 2), ('6pgc_c', 2), ('actp_c', 2), ('ala__L_c', 2), ('amet_c', 2), ('arg__L_c', 2), ('asn__L_c', 2), ('asp__L_c', 2), ('ca2_c', 2), ('cl_c', 2), ('cobalt2_c', 2), ('ctp_c', 2), ('cu2_c', 2), ('cys__L_c', 2), ('datp_c', 2), ('dctp_c', 2), ('dgtp_c', 2), ('dttp_c', 2), ('fad_c', 2), ('fe2_c', 2), ('fe3_c', 2), ('ficytc_c', 2), ('focytc_c', 2), ('glc__D_c', 2), ('glc__D_p', 2), ('glcn_c', 2), ('glx_c', 2), ('gly_c', 2), ('glyald_c', 2), ('gtp_c', 2), ('his__L_c', 2), ('ile__L_c', 2), ('k_c', 2), ('leu__L_c', 2), ('lys__L_c', 2), ('met__L_c', 2), ('mg2_c', 2), ('mlthf_c', 2), ('mqn8_c', 2), ('murein5px4p_p', 2), ('pe160_c', 2), ('pe161_c', 2), ('phe__L_c', 2), ('pheme_c', 2), ('pro__L_c', 2), ('pydx5p_c', 2), ('ribflv_c', 2), ('ser__L_c', 2), ('sheme_c', 2), ('so4_c', 2), ('thf_c', 2), ('thr__L_c', 2), ('trp__L_c', 2), ('tyr__L_c', 2), ('val__L_c', 2), ('zn2_c', 2), ('3hocoa__R_c', 2), ('EX_co2_e', 2), ('EX_for_e', 2), ('EX_fru_e', 2), ('EX_fum_e', 2), ('EX_glc__D_e', 2), ('EX_gln__L_e', 2), ('EX_glu__L_e', 2), ('EX_h_e', 2), ('EX_h2o_e', 2), ('EX_lac__L_e', 2), ('EX_mal__L_e', 2), ('EX_nh4_e', 2), ('EX_o2_e', 2), ('EX_pi_e', 2), ('EX_pyr_e', 2), ('EX_succ_e', 2), ('5mthf_c', 1), ('acald_p', 1), ('chor_c', 1), ('hemeO_c', 1), ('kdo2lipid4_p', 1), ('malcoa_c', 1), ('mn2_c', 1), ('mobd_c', 1), ('ni2_c', 1), ('pe160_p', 1), ('pe161_p', 1), ('pe180_c', 1), ('pe181_c', 1), ('pg160_c', 1), ('pg161_c', 1), ('pg180_c', 1), ('pg181_c', 1), ('pqq_p', 1), ('pqqh2_p', 1), ('ptrc_c', 1), ('thmpp_c', 1), ('udcpdp_c', 1), ('udp_c', 1), ('EX_cellb_e', 1), ('EX_xyl__D_e', 1)]\n",
      "Lowest degree nodes:\n",
      "[('5mthf_c', 1), ('acald_p', 1), ('chor_c', 1), ('hemeO_c', 1), ('kdo2lipid4_p', 1), ('malcoa_c', 1), ('mn2_c', 1), ('mobd_c', 1), ('ni2_c', 1), ('pe160_p', 1), ('pe161_p', 1), ('pe180_c', 1), ('pe181_c', 1), ('pg160_c', 1), ('pg161_c', 1), ('pg180_c', 1), ('pg181_c', 1), ('pqq_p', 1), ('pqqh2_p', 1), ('ptrc_c', 1), ('thmpp_c', 1), ('udcpdp_c', 1), ('udp_c', 1), ('EX_cellb_e', 1), ('EX_xyl__D_e', 1), ('10fthf_c', 2), ('2ddg6p_c', 2), ('2dhglcn_c', 2), ('6pgc_c', 2), ('actp_c', 2), ('ala__L_c', 2), ('amet_c', 2), ('arg__L_c', 2), ('asn__L_c', 2), ('asp__L_c', 2), ('ca2_c', 2), ('cl_c', 2), ('cobalt2_c', 2), ('ctp_c', 2), ('cu2_c', 2), ('cys__L_c', 2), ('datp_c', 2), ('dctp_c', 2), ('dgtp_c', 2), ('dttp_c', 2), ('fad_c', 2), ('fe2_c', 2), ('fe3_c', 2), ('ficytc_c', 2), ('focytc_c', 2), ('glc__D_c', 2), ('glc__D_p', 2), ('glcn_c', 2), ('glx_c', 2), ('gly_c', 2), ('glyald_c', 2), ('gtp_c', 2), ('his__L_c', 2), ('ile__L_c', 2), ('k_c', 2), ('leu__L_c', 2), ('lys__L_c', 2), ('met__L_c', 2), ('mg2_c', 2), ('mlthf_c', 2), ('mqn8_c', 2), ('murein5px4p_p', 2), ('pe160_c', 2), ('pe161_c', 2), ('phe__L_c', 2), ('pheme_c', 2), ('pro__L_c', 2), ('pydx5p_c', 2), ('ribflv_c', 2), ('ser__L_c', 2), ('sheme_c', 2), ('so4_c', 2), ('thf_c', 2), ('thr__L_c', 2), ('trp__L_c', 2), ('tyr__L_c', 2), ('val__L_c', 2), ('zn2_c', 2), ('3hocoa__R_c', 2), ('EX_co2_e', 2), ('EX_for_e', 2), ('EX_fru_e', 2), ('EX_fum_e', 2), ('EX_glc__D_e', 2), ('EX_gln__L_e', 2), ('EX_glu__L_e', 2), ('EX_h_e', 2), ('EX_h2o_e', 2), ('EX_lac__L_e', 2), ('EX_mal__L_e', 2), ('EX_nh4_e', 2), ('EX_o2_e', 2), ('EX_pi_e', 2), ('EX_pyr_e', 2), ('EX_succ_e', 2), ('2dhglcn_p', 3), ('amp_c', 3), ('cellb_p', 3), ('cit_c', 3), ('etoh_p', 3), ('fru_p', 3), ('fum_e', 3), ('glcn_p', 3), ('lac__L_c', 3), ('lac__L_e', 3), ('mal__L_e', 3), ('mql8_c', 3), ('na1_e', 3), ('pi_e', 3), ('ppi_c', 3), ('pyr_p', 3), ('succ_e', 3), ('utp_c', 3), ('xyl__D_p', 3), ('xylu__D_c', 3), ('EDA', 3), ('EDD', 3), ('ICL', 3), ('BG_CELLB', 3), ('BGLApp', 3), ('13dpg_c', 4), ('2pg_c', 4), ('3hbcoa__R_c', 4), ('aacoa_c', 4), ('acald_c', 4), ('acon_C_c', 4), ('cellb_e', 4), ('co2_e', 4), ('etoh_c', 4), ('f1p_c', 4), ('fdp_c', 4), ('for_e', 4), ('for_p', 4), ('gln__L_p', 4), ('glu__L_p', 4), ('na1_c', 4), ('o2_c', 4), ('o2_e', 4), ('o2_p', 4), ('pyr_e', 4), ('ru5p__D_c', 4), ('s7p_c', 4), ('succoa_c', 4), ('xyl__D_c', 4), ('xyl__D_e', 4), ('CO2tex', 4), ('CO2tpp', 4), ('ETOHtrpp', 4), ('FBP', 4), ('FRUptspp', 4), ('GLUNpp', 4), ('GLUt2rpp', 4), ('H2Otex', 4), ('H2Otpp', 4), ('NADTRHD', 4), ('NH4tex', 4), ('NH4tpp', 4), ('O2tex', 4), ('O2tpp', 4), ('PGI', 4), ('PGM', 4), ('PPK', 4), ('PYRt2rpp', 4), ('RPE', 4), ('RPI', 4), ('SUCDi', 4), ('TPI', 4), ('2DHGLCNkt_tpp', 4), ('ALCDpp', 4), ('FORtex', 4), ('FRD2', 4), ('FRUpts', 4), ('FRUtex', 4), ('GLCpts', 4), ('GLNtex', 4), ('GLUN', 4), ('GLUtex', 4), ('HMR_9610', 4), ('L_LACt3', 4), ('MALt4', 4), ('MFUMt8', 4), ('NH4t', 4), ('PIt2r', 4), ('PYRtex', 4), ('XYLI1', 4), ('CLBtex', 4), ('XYLtex', 4), ('3pg_c', 5), ('e4p_c', 5), ('fru_e', 5), ('fum_c', 5), ('g6p_c', 5), ('glc__D_e', 5), ('gln__L_e', 5), ('glu__L_e', 5), ('h2o_e', 5), ('h_e', 5), ('icit_c', 5), ('nh4_p', 5), ('r5p_c', 5), ('GNK', 5), ('HEX1', 5), ('ME2', 5), ('NADH5', 5), ('PPCK', 5), ('PYK', 5), ('2DGLCNRx', 5), ('ATPM', 5), ('ME1', 5), ('PFK', 5), ('PYK2', 5), ('XYLK', 5), ('co2_p', 6), ('dhap_c', 6), ('nh4_e', 6), ('oaa_c', 6), ('succ_c', 6), ('ACONTa', 6), ('ACONTb', 6), ('ADK1', 6), ('AKGDH', 6), ('CS', 6), ('CYO1_KT', 6), ('CYTCAA3pp', 6), ('ENO', 6), ('FBA', 6), ('FUM', 6), ('GLCDpp', 6), ('MALS', 6), ('PDH', 6), ('PPC', 6), ('THD2pp', 6), ('CYTBD', 6), ('FBA2', 6), ('FDH4pp', 6), ('FDH5r2pp', 6), ('PHAa', 6), ('PHAc', 6), ('gln__L_c', 7), ('h2o_p', 7), ('xu5p__D_c', 7), ('PPS', 7), ('GLCabc', 7), ('GLNabc', 7), ('GLNabcpp', 7), ('GLNS', 7), ('GLUabc', 7), ('XYLabc', 7), ('XYLabcpp', 7), ('akg_c', 8), ('mal__L_c', 8), ('q8_c', 8), ('GAD2ktpp', 8), ('PGK', 8), ('PTAr', 8), ('TALA', 8), ('TKT1', 8), ('TKT2', 8), ('f6p_c', 9), ('q8h2_c', 9), ('co2_c', 10), ('ALCD2x', 10), ('ICDHyr', 10), ('MDH', 10), ('LDH_L', 10), ('PHAb', 10), ('accoa_c', 11), ('glu__L_c', 11), ('h_p', 11), ('nadph_c', 11), ('nh4_c', 11), ('pep_c', 11), ('nadp_c', 12), ('ACALD', 12), ('ATPS4rpp', 12), ('GAPD', 12), ('SUCOAS', 12), ('g3p_c', 14), ('pyr_c', 14), ('GLUDxi', 14), ('GLUDy', 14), ('coa_c', 17), ('nadh_c', 21), ('nad_c', 22), ('Biomass_ecoli_core', 23), ('pi_c', 24), ('adp_c', 26), ('atp_c', 27), ('h2o_c', 35), ('h_c', 52), ('Biomass', 64), ('Biomass_putida_core_2', 79)]\n"
     ]
    }
   ],
   "source": [
    "# Print out nodes sorted by node degree (+reversed)\n",
    "metmod.print_degree_sorted(G)"
   ]
  },
  {
   "cell_type": "code",
   "execution_count": 13,
   "id": "cb941c98",
   "metadata": {},
   "outputs": [
    {
     "data": {
      "image/png": "[encoded data removed]",
      "text/plain": [
       "<Figure size 640x480 with 1 Axes>"
      ]
     },
     "metadata": {},
     "output_type": "display_data"
    }
   ],
   "source": [
    "metmod.print_degree_distribution(G)"
   ]
  },
  {
   "cell_type": "code",
   "execution_count": 14,
   "id": "d38d9def",
   "metadata": {},
   "outputs": [
    {
     "name": "stdout",
     "output_type": "stream",
     "text": [
      "2 {'EX_lac__L_e', 'lac__L_e'}\n",
      "2 {'EX_fum_e', 'fum_e'}\n",
      "2 {'mal__L_e', 'EX_mal__L_e'}\n",
      "2 {'EX_pi_e', 'pi_e'}\n",
      "2 {'succ_e', 'EX_succ_e'}\n",
      "3 {'CLBtex', 'cellb_e', 'cellb_p'}\n",
      "3 {'XYLtex', 'xyl__D_e', 'xyl__D_p'}\n",
      "4 {'EX_for_e', 'for_p', 'for_e', 'FORtex'}\n",
      "4 {'fru_e', 'FRUtex', 'EX_fru_e', 'fru_p'}\n",
      "4 {'gln__L_p', 'gln__L_e', 'EX_gln__L_e', 'GLNtex'}\n",
      "4 {'PYRtex', 'EX_pyr_e', 'pyr_p', 'pyr_e'}\n",
      "6 {'EX_o2_e', 'o2_p', 'O2tex', 'O2tpp', 'o2_c', 'o2_e'}\n",
      "181 {'GLNS', '2dhglcn_c', 'adp_c', 'ALCD2x', 'akg_c', 'ACONTa', 'q8h2_c', 'glc__D_p', 'FDH5r2pp', 'GLUDxi', 'h_e', 'PYK', 'ICL', 'focytc_c', 'MALS', 'EX_h_e', 'fum_c', 'GAPD', 'PGI', 'GLUtex', '6pgc_c', 'PHAa', 'etoh_c', 'h_c', 'FRUpts', '2pg_c', 'mqn8_c', 'H2Otpp', 'FUM', 'acald_c', 'GLUNpp', 'accoa_c', 'CS', 'EDD', 'e4p_c', 'nh4_c', 'ENO', 'h2o_e', 'RPI', 'pi_c', 'PTAr', 'nadh_c', 'XYLabcpp', 'co2_c', 'XYLabc', '2DGLCNRx', 'glu__L_e', 'PYRt2rpp', 'glu__L_c', 'GLUabc', '2dhglcn_p', 'GLNabc', 's7p_c', 'glu__L_p', 'mal__L_c', 'TKT1', 'FBP', 'PPCK', 'PIt2r', 'CYO1_KT', 'PGK', '3hocoa__R_c', 'etoh_p', 'xu5p__D_c', 'GNK', 'ICDHyr', 'pep_c', 'HEX1', 'GLCDpp', 'PGM', 'ATPM', 'BG_CELLB', 'g3p_c', 'xyl__D_c', 'FRUptspp', 'GLCabc', 'glcn_c', 'L_LACt3', 'EX_co2_e', 'amp_c', 'pyr_c', 'g6p_c', 'nh4_e', 'lac__L_c', 'H2Otex', 'ETOHtrpp', 'GAD2ktpp', 'acon_C_c', '13dpg_c', 'succoa_c', 'cit_c', 'LDH_L', 'PPS', 'CYTBD', 'NH4tex', 'CO2tex', 'NH4t', 'GLUN', 'atp_c', 'EX_h2o_e', 'Biomass_putida_core_2', 'FBA2', 'Biomass_ecoli_core', 'ACONTb', 'q8_c', 'ME1', 'xylu__D_c', 'XYLK', 'nh4_p', 'ATPS4rpp', 'SUCDi', 'MDH', 'GLUt2rpp', 'ru5p__D_c', 'Biomass', 'glc__D_e', 'SUCOAS', 'RPE', 'nadp_c', 'ACALD', 'mql8_c', 'EDA', 'PPC', 'NH4tpp', 'co2_p', 'utp_c', 'glyald_c', 'EX_glu__L_e', 'r5p_c', 'gln__L_c', 'aacoa_c', 'actp_c', 'CO2tpp', 'FBA', 'TALA', '2ddg6p_c', 'oaa_c', 'AKGDH', 'EX_glc__D_e', 'EX_nh4_e', 'icit_c', 'FDH4pp', 'glx_c', 'fdp_c', 'ADK1', 'THD2pp', 'h2o_p', 'dhap_c', 'GLNabcpp', 'h2o_c', 'f1p_c', 'PFK', 'GLCpts', 'TPI', 'ME2', 'PHAc', 'GLUDy', 'glc__D_c', 'CYTCAA3pp', 'f6p_c', 'XYLI1', 'PDH', 'PYK2', 'TKT2', 'PPK', 'FRD2', 'NADTRHD', 'ficytc_c', '2DHGLCNkt_tpp', 'nad_c', 'co2_e', 'h_p', 'glcn_p', 'PHAb', '3hbcoa__R_c', 'BGLApp', '3pg_c', 'nadph_c', 'NADH5', 'coa_c', 'succ_c'}\n"
     ]
    }
   ],
   "source": [
    "# Single node strongly connected components are omitted\n",
    "metmod.print_strongly_connected(G)"
   ]
  },
  {
   "cell_type": "markdown",
   "id": "433fa45c",
   "metadata": {},
   "source": [
    "Some helper functions should make it easy to work with the graph, as naming can be unintuitive. Creation of variables instead of relying on strings is encouraged."
   ]
  },
  {
   "cell_type": "code",
   "execution_count": 15,
   "id": "e214b993",
   "metadata": {},
   "outputs": [
    {
     "data": {
      "text/plain": [
       "['glu__L_c', 'glu__L_e', 'glu__L_p', 'EX_glu__L_e']"
      ]
     },
     "execution_count": 15,
     "metadata": {},
     "output_type": "execute_result"
    }
   ],
   "source": [
    "# Inspect all node names\n",
    "# metmod.print_graph_nodes_names()\n",
    "# Find for names containing a string\n",
    "metmod.find_graph_names_with(G, 'glu')"
   ]
  },
  {
   "cell_type": "code",
   "execution_count": null,
   "id": "5c8aede2",
   "metadata": {},
   "outputs": [],
   "source": [
    "glu = metmod.get_id_by_name(G, 'D-Glucose')\n",
    "pyr = metmod.get_id_by_name(G, 'Pyruvate')\n",
    "eno = metmod.get_id_by_name(G, 'Enolase')"
   ]
  },
  {
   "cell_type": "code",
   "execution_count": 17,
   "id": "2e44cfb8",
   "metadata": {},
   "outputs": [
    {
     "name": "stdout",
     "output_type": "stream",
     "text": [
      "PDH\n",
      "PPS\n",
      "LDH_L\n",
      "Biomass_ecoli_core\n"
     ]
    }
   ],
   "source": [
    "metmod.print_neighbors(G, pyr)"
   ]
  },
  {
   "cell_type": "code",
   "execution_count": 18,
   "id": "1bdcce76",
   "metadata": {},
   "outputs": [
    {
     "name": "stdout",
     "output_type": "stream",
     "text": [
      "['D-Glucose', 'Hexokinase (D-glucose:ATP)', 'ADP C10H12N5O10P2', 'ATP synthase (four protons for one ATP) (periplasm)', 'H2O H2O', 'Enolase', 'Phosphoenolpyruvate', 'D-fructose transport via PEP:Pyr PTS (periplasm)', 'Pyruvate']\n",
      "['D-Glucose', 'Hexokinase (D-glucose:ATP)', 'H+', 'ATP synthase (four protons for one ATP) (periplasm)', 'H2O H2O', 'Enolase', 'Phosphoenolpyruvate', 'D-fructose transport via PEP:Pyr PTS (periplasm)', 'Pyruvate']\n",
      "['D-Glucose', 'Hexokinase (D-glucose:ATP)', 'H+', 'Glutamate dehydrogenase (NADP)', 'H2O H2O', 'Enolase', 'Phosphoenolpyruvate', 'D-fructose transport via PEP:Pyr PTS (periplasm)', 'Pyruvate']\n",
      "['D-Glucose', 'Hexokinase (D-glucose:ATP)', 'H+', 'Cytochrome c oxidase aa3  2 protons1 electron    periplasm', 'H2O H2O', 'Enolase', 'Phosphoenolpyruvate', 'D-fructose transport via PEP:Pyr PTS (periplasm)', 'Pyruvate']\n",
      "['D-Glucose', 'Hexokinase (D-glucose:ATP)', 'H+', 'Glutamate dehydrogenase  NAD', 'H2O H2O', 'Enolase', 'Phosphoenolpyruvate', 'D-fructose transport via PEP:Pyr PTS (periplasm)', 'Pyruvate']\n",
      "['D-Glucose', 'Hexokinase (D-glucose:ATP)', 'H+', 'Cytochrome oxidase bd (ubiquinol-8: 2 protons)', 'H2O H2O', 'Enolase', 'Phosphoenolpyruvate', 'D-fructose transport via PEP:Pyr PTS (periplasm)', 'Pyruvate']\n",
      "['D-Glucose', 'Hexokinase (D-glucose:ATP)', 'ADP C10H12N5O10P2', 'ATP synthase (four protons for one ATP) (periplasm)', 'H2O H2O', 'Enolase', 'Phosphoenolpyruvate', 'Pyruvate kinase', 'Pyruvate']\n",
      "['D-Glucose', 'Hexokinase (D-glucose:ATP)', 'H+', 'ATP synthase (four protons for one ATP) (periplasm)', 'H2O H2O', 'Enolase', 'Phosphoenolpyruvate', 'Pyruvate kinase', 'Pyruvate']\n",
      "['D-Glucose', 'Hexokinase (D-glucose:ATP)', 'H+', 'Glutamate dehydrogenase (NADP)', 'H2O H2O', 'Enolase', 'Phosphoenolpyruvate', 'Pyruvate kinase', 'Pyruvate']\n",
      "['D-Glucose', 'Hexokinase (D-glucose:ATP)', 'H+', 'Cytochrome c oxidase aa3  2 protons1 electron    periplasm', 'H2O H2O', 'Enolase', 'Phosphoenolpyruvate', 'Pyruvate kinase', 'Pyruvate']\n"
     ]
    }
   ],
   "source": [
    "_, named = metmod.find_paths(G, glu, pyr, [eno], 10, print_path=True)"
   ]
  },
  {
   "cell_type": "code",
   "execution_count": 19,
   "id": "86136a92",
   "metadata": {},
   "outputs": [
    {
     "name": "stdout",
     "output_type": "stream",
     "text": [
      "Removed 5 nodes with degree greater than 30.\n",
      "Removed the following nodes: ['H2O H2O', 'H+', 'UDP C9H11N2O12P2', 'Biomass reaction', 'Biomass reaction taken from P. putida IjN1463']\n",
      "Remaining nodes: 297\n",
      "['D-Glucose', 'Hexokinase (D-glucose:ATP)', 'D-Glucose 6-phosphate', 'Glucose-6-phosphate isomerase', 'D-Fructose 6-phosphate', 'Transaldolase', 'Glyceraldehyde 3-phosphate', 'Glyceraldehyde-3-phosphate dehydrogenase', '3-Phospho-D-glyceroyl phosphate', 'Phosphoglycerate kinase', '3-Phospho-D-glycerate', 'Phosphoglycerate mutase', 'D-Glycerate 2-phosphate', 'Enolase', 'Phosphoenolpyruvate', 'D-fructose transport via PEP:Pyr PTS (periplasm)', 'Pyruvate']\n",
      "['D-Glucose', 'Hexokinase (D-glucose:ATP)', 'D-Glucose 6-phosphate', 'Glucose-6-phosphate isomerase', 'D-Fructose 6-phosphate', 'Transketolase', 'Glyceraldehyde 3-phosphate', 'Glyceraldehyde-3-phosphate dehydrogenase', '3-Phospho-D-glyceroyl phosphate', 'Phosphoglycerate kinase', '3-Phospho-D-glycerate', 'Phosphoglycerate mutase', 'D-Glycerate 2-phosphate', 'Enolase', 'Phosphoenolpyruvate', 'D-fructose transport via PEP:Pyr PTS (periplasm)', 'Pyruvate']\n",
      "['D-Glucose', 'Hexokinase (D-glucose:ATP)', 'D-Glucose 6-phosphate', 'Glucose-6-phosphate isomerase', 'D-Fructose 6-phosphate', 'Transaldolase', 'Glyceraldehyde 3-phosphate', 'Glyceraldehyde-3-phosphate dehydrogenase', '3-Phospho-D-glyceroyl phosphate', 'Phosphoglycerate kinase', '3-Phospho-D-glycerate', 'Phosphoglycerate mutase', 'D-Glycerate 2-phosphate', 'Enolase', 'Phosphoenolpyruvate', 'Pyruvate kinase', 'Pyruvate']\n",
      "['D-Glucose', 'Hexokinase (D-glucose:ATP)', 'D-Glucose 6-phosphate', 'Glucose-6-phosphate isomerase', 'D-Fructose 6-phosphate', 'Transketolase', 'Glyceraldehyde 3-phosphate', 'Glyceraldehyde-3-phosphate dehydrogenase', '3-Phospho-D-glyceroyl phosphate', 'Phosphoglycerate kinase', '3-Phospho-D-glycerate', 'Phosphoglycerate mutase', 'D-Glycerate 2-phosphate', 'Enolase', 'Phosphoenolpyruvate', 'Pyruvate kinase', 'Pyruvate']\n",
      "['D-Glucose', 'Hexokinase (D-glucose:ATP)', 'D-Glucose 6-phosphate', 'Glucose-6-phosphate isomerase', 'D-Fructose 6-phosphate', 'Transaldolase', 'Glyceraldehyde 3-phosphate', 'Glyceraldehyde-3-phosphate dehydrogenase', '3-Phospho-D-glyceroyl phosphate', 'Phosphoglycerate kinase', '3-Phospho-D-glycerate', 'Phosphoglycerate mutase', 'D-Glycerate 2-phosphate', 'Enolase', 'Phosphoenolpyruvate', 'D-fructose transport via PEP:Pyr PTS', 'Pyruvate']\n",
      "['D-Glucose', 'Hexokinase (D-glucose:ATP)', 'D-Glucose 6-phosphate', 'Glucose-6-phosphate isomerase', 'D-Fructose 6-phosphate', 'Transketolase', 'Glyceraldehyde 3-phosphate', 'Glyceraldehyde-3-phosphate dehydrogenase', '3-Phospho-D-glyceroyl phosphate', 'Phosphoglycerate kinase', '3-Phospho-D-glycerate', 'Phosphoglycerate mutase', 'D-Glycerate 2-phosphate', 'Enolase', 'Phosphoenolpyruvate', 'D-fructose transport via PEP:Pyr PTS', 'Pyruvate']\n",
      "['D-Glucose', 'Hexokinase (D-glucose:ATP)', 'D-Glucose 6-phosphate', 'Glucose-6-phosphate isomerase', 'D-Fructose 6-phosphate', 'Transaldolase', 'Glyceraldehyde 3-phosphate', 'Glyceraldehyde-3-phosphate dehydrogenase', '3-Phospho-D-glyceroyl phosphate', 'Phosphoglycerate kinase', '3-Phospho-D-glycerate', 'Phosphoglycerate mutase', 'D-Glycerate 2-phosphate', 'Enolase', 'Phosphoenolpyruvate', 'D-glucose transport via PEP:Pyr PTS', 'Pyruvate']\n",
      "['D-Glucose', 'Hexokinase (D-glucose:ATP)', 'D-Glucose 6-phosphate', 'Glucose-6-phosphate isomerase', 'D-Fructose 6-phosphate', 'Transketolase', 'Glyceraldehyde 3-phosphate', 'Glyceraldehyde-3-phosphate dehydrogenase', '3-Phospho-D-glyceroyl phosphate', 'Phosphoglycerate kinase', '3-Phospho-D-glycerate', 'Phosphoglycerate mutase', 'D-Glycerate 2-phosphate', 'Enolase', 'Phosphoenolpyruvate', 'D-glucose transport via PEP:Pyr PTS', 'Pyruvate']\n",
      "['D-Glucose', 'Hexokinase (D-glucose:ATP)', 'D-Glucose 6-phosphate', 'Glucose-6-phosphate isomerase', 'D-Fructose 6-phosphate', 'Transaldolase', 'Glyceraldehyde 3-phosphate', 'Glyceraldehyde-3-phosphate dehydrogenase', '3-Phospho-D-glyceroyl phosphate', 'Phosphoglycerate kinase', '3-Phospho-D-glycerate', 'Phosphoglycerate mutase', 'D-Glycerate 2-phosphate', 'Enolase', 'Phosphoenolpyruvate', 'Pyruvate kinase(2)', 'Pyruvate']\n",
      "['D-Glucose', 'Hexokinase (D-glucose:ATP)', 'D-Glucose 6-phosphate', 'Glucose-6-phosphate isomerase', 'D-Fructose 6-phosphate', 'Transketolase', 'Glyceraldehyde 3-phosphate', 'Glyceraldehyde-3-phosphate dehydrogenase', '3-Phospho-D-glyceroyl phosphate', 'Phosphoglycerate kinase', '3-Phospho-D-glycerate', 'Phosphoglycerate mutase', 'D-Glycerate 2-phosphate', 'Enolase', 'Phosphoenolpyruvate', 'Pyruvate kinase(2)', 'Pyruvate']\n"
     ]
    }
   ],
   "source": [
    "# Threshold needs to be tinkered with and set based on degree distribution\n",
    "# Check if any important nodes were deleted\n",
    "pruned_G = metmod.prune_graph(G, 30, [pyr])\n",
    "\n",
    "# Manually delete some nodes\n",
    "pruned_G = metmod.delete_nodes_by_id(pruned_G, ['adp_c', metmod.get_id_by_name(G, 'Ecoli_core model biomass')])\n",
    " \n",
    "ids, named = metmod.find_paths(pruned_G, glu, pyr, [eno], 10, print_path=True)"
   ]
  },
  {
   "cell_type": "markdown",
   "id": "cbae74c6",
   "metadata": {},
   "source": [
    "## 3. Iterative workflow"
   ]
  },
  {
   "cell_type": "markdown",
   "id": "45ca6db4",
   "metadata": {},
   "source": [
    "### 3.1 Refinement"
   ]
  },
  {
   "cell_type": "markdown",
   "id": "7f152ede",
   "metadata": {},
   "source": [
    "Firstly we will create additional files in order to ease manual refinement of model."
   ]
  },
  {
   "cell_type": "code",
   "execution_count": null,
   "id": "f8702098",
   "metadata": {},
   "outputs": [],
   "source": [
    "xlsx_path = os.path.join('models', f'{model_name}.xlsx')"
   ]
  },
  {
   "cell_type": "code",
   "execution_count": 21,
   "id": "ad21ded1",
   "metadata": {},
   "outputs": [
    {
     "name": "stdout",
     "output_type": "stream",
     "text": [
      "Model saved to models/core.xlsx\n"
     ]
    }
   ],
   "source": [
    "model = cobra.io.read_sbml_model(polished_path)\n",
    "# Create a xlsx file from cobra model\n",
    "metmod.cobra_to_xlsx(model, xlsx_path)"
   ]
  },
  {
   "cell_type": "code",
   "execution_count": null,
   "id": "d1c8ef45",
   "metadata": {},
   "outputs": [
    {
     "name": "stdout",
     "output_type": "stream",
     "text": [
      "Saved\n"
     ]
    }
   ],
   "source": [
    "# Sync xlsx file with SBML and json\n",
    "metmod.sync_xlsx(xlsx_path, os.path.join('models', model_name), save_json=False)"
   ]
  },
  {
   "cell_type": "code",
   "execution_count": null,
   "id": "2355b22c",
   "metadata": {},
   "outputs": [],
   "source": [
    "# Optionally load a cobra model from xlsx\n",
    "model = metmod.xlsx_to_cobra(xlsx_path, model_name)"
   ]
  },
  {
   "cell_type": "markdown",
   "id": "6d541bfa",
   "metadata": {},
   "source": [
    "Additionally, for working with Escher maps and creating a core model, a function which deletes all compounds not present in a map is available. "
   ]
  },
  {
   "cell_type": "code",
   "execution_count": null,
   "id": "ff03d602",
   "metadata": {},
   "outputs": [],
   "source": [
    "metmod.mini_model_prune(map_path, polished_path, f'mini_{model_name}')\n",
    "mini_model_path = f'mini_{model_name}.xml'"
   ]
  },
  {
   "cell_type": "markdown",
   "id": "06c5ea73",
   "metadata": {},
   "source": [
    "### 3.2 Cross checking"
   ]
  },
  {
   "cell_type": "markdown",
   "id": "2fab6230",
   "metadata": {},
   "source": [
    "#### Flux Balance Analysis"
   ]
  },
  {
   "cell_type": "markdown",
   "id": "dada5a2b",
   "metadata": {},
   "source": [
    "Make sure the model has an objective function."
   ]
  },
  {
   "cell_type": "code",
   "execution_count": 23,
   "id": "a5a4d5e4",
   "metadata": {},
   "outputs": [
    {
     "name": "stdout",
     "output_type": "stream",
     "text": [
      "Maximize\n",
      "1.0*Biomass - 1.0*Biomass_reverse_57a34\n",
      "1.0*Biomass - 1.0*Biomass_reverse_57a34\n",
      "max\n"
     ]
    }
   ],
   "source": [
    "print(model.objective)          # Shows the symbolic expression\n",
    "print(model.objective.expression)  # Explicit formula (reaction * coefficient)\n",
    "print(model.objective.direction)   # 'max' or 'min'"
   ]
  },
  {
   "cell_type": "code",
   "execution_count": null,
   "id": "2d26b940",
   "metadata": {},
   "outputs": [],
   "source": [
    "# If the model contains a biomass reaction, it can be set as objective:\n",
    "biomass = model.reactions.get_by_id('Biomass_ecoli_core')\n",
    "model.objective = biomass"
   ]
  },
  {
   "cell_type": "code",
   "execution_count": 25,
   "id": "68be40fc",
   "metadata": {},
   "outputs": [
    {
     "data": {
      "text/html": [
       "<strong><em>Optimal</em> solution with objective value 1.082</strong><br><div>\n",
       "<style scoped>\n",
       "    .dataframe tbody tr th:only-of-type {\n",
       "        vertical-align: middle;\n",
       "    }\n",
       "\n",
       "    .dataframe tbody tr th {\n",
       "        vertical-align: top;\n",
       "    }\n",
       "\n",
       "    .dataframe thead th {\n",
       "        text-align: right;\n",
       "    }\n",
       "</style>\n",
       "<table border=\"1\" class=\"dataframe\">\n",
       "  <thead>\n",
       "    <tr style=\"text-align: right;\">\n",
       "      <th></th>\n",
       "      <th>fluxes</th>\n",
       "      <th>reduced_costs</th>\n",
       "    </tr>\n",
       "  </thead>\n",
       "  <tbody>\n",
       "    <tr>\n",
       "      <th>ACALD</th>\n",
       "      <td>0.000000</td>\n",
       "      <td>-0.000000e+00</td>\n",
       "    </tr>\n",
       "    <tr>\n",
       "      <th>ACONTa</th>\n",
       "      <td>0.000000</td>\n",
       "      <td>0.000000e+00</td>\n",
       "    </tr>\n",
       "    <tr>\n",
       "      <th>ACONTb</th>\n",
       "      <td>0.000000</td>\n",
       "      <td>0.000000e+00</td>\n",
       "    </tr>\n",
       "    <tr>\n",
       "      <th>ADK1</th>\n",
       "      <td>0.000000</td>\n",
       "      <td>0.000000e+00</td>\n",
       "    </tr>\n",
       "    <tr>\n",
       "      <th>AKGDH</th>\n",
       "      <td>0.000000</td>\n",
       "      <td>-2.254172e-02</td>\n",
       "    </tr>\n",
       "    <tr>\n",
       "      <th>...</th>\n",
       "      <td>...</td>\n",
       "      <td>...</td>\n",
       "    </tr>\n",
       "    <tr>\n",
       "      <th>PHAa</th>\n",
       "      <td>0.000000</td>\n",
       "      <td>-0.000000e+00</td>\n",
       "    </tr>\n",
       "    <tr>\n",
       "      <th>PHAb</th>\n",
       "      <td>0.000000</td>\n",
       "      <td>-0.000000e+00</td>\n",
       "    </tr>\n",
       "    <tr>\n",
       "      <th>PHAc</th>\n",
       "      <td>0.000000</td>\n",
       "      <td>-0.000000e+00</td>\n",
       "    </tr>\n",
       "    <tr>\n",
       "      <th>Biomass_putida_core_2</th>\n",
       "      <td>0.000000</td>\n",
       "      <td>0.000000e+00</td>\n",
       "    </tr>\n",
       "    <tr>\n",
       "      <th>Biomass_ecoli_core</th>\n",
       "      <td>1.082003</td>\n",
       "      <td>-1.279359e-16</td>\n",
       "    </tr>\n",
       "  </tbody>\n",
       "</table>\n",
       "<p>126 rows × 2 columns</p>\n",
       "</div>"
      ],
      "text/plain": [
       "<Solution 1.082 at 0x305f86940>"
      ]
     },
     "execution_count": 25,
     "metadata": {},
     "output_type": "execute_result"
    }
   ],
   "source": [
    "solution = model.optimize()\n",
    "solution"
   ]
  },
  {
   "cell_type": "markdown",
   "id": "dc28207a",
   "metadata": {},
   "source": [
    "Run and visualise FBA in Escher"
   ]
  },
  {
   "cell_type": "code",
   "execution_count": 26,
   "id": "f437d6b1",
   "metadata": {},
   "outputs": [
    {
     "data": {
      "application/vnd.jupyter.widget-view+json": {
       "model_id": "830f3c03b4654ecb9ace9e67c4bb1626",
       "version_major": 2,
       "version_minor": 0
      },
      "text/plain": [
       "Builder(highlight_missing=False, reaction_data={'ACALD': 0.0, 'ACONTa': 0.0, 'ACONTb': 0.0, 'ADK1': 0.0, 'AKGD…"
      ]
     },
     "metadata": {},
     "output_type": "display_data"
    }
   ],
   "source": [
    "metmod.escher_build(polished_path, map_path, reaction_data=model.optimize().fluxes)"
   ]
  },
  {
   "cell_type": "markdown",
   "id": "e11300b9",
   "metadata": {},
   "source": [
    "Knockout a gene."
   ]
  },
  {
   "cell_type": "code",
   "execution_count": 27,
   "id": "7c383dd3",
   "metadata": {},
   "outputs": [],
   "source": [
    "model.genes.IS481_RS13060.knock_out()"
   ]
  },
  {
   "cell_type": "code",
   "execution_count": 28,
   "id": "78406953",
   "metadata": {},
   "outputs": [
    {
     "data": {
      "application/vnd.jupyter.widget-view+json": {
       "model_id": "f7106ed940dd473f8676eb4d7da3f908",
       "version_major": 2,
       "version_minor": 0
      },
      "text/plain": [
       "Builder(highlight_missing=False, reaction_data={'ACALD': 0.0, 'ACONTa': 2.724408263433695, 'ACONTb': 2.7244082…"
      ]
     },
     "metadata": {},
     "output_type": "display_data"
    }
   ],
   "source": [
    "metmod.escher_build(polished_path, map_path, reaction_data=model.optimize().fluxes)"
   ]
  },
  {
   "cell_type": "markdown",
   "id": "d6f505b9",
   "metadata": {},
   "source": [
    "#### Elementary Flux Mode analysis\n",
    "* note that efmtool requires Java 8; one way of switching Java versions is as follows: export JAVA_HOME=$(/usr/libexec/java_home -v 1.8)"
   ]
  },
  {
   "cell_type": "code",
   "execution_count": 29,
   "id": "764e30fc",
   "metadata": {},
   "outputs": [],
   "source": [
    "model = cobra.io.read_sbml_model(polished_path)"
   ]
  },
  {
   "cell_type": "markdown",
   "id": "f6444e3e",
   "metadata": {},
   "source": [
    "If the cell is taking a long time to run, try turning the logger on to see if there is an issue."
   ]
  },
  {
   "cell_type": "code",
   "execution_count": 30,
   "id": "664ea36f",
   "metadata": {},
   "outputs": [
    {
     "name": "stdout",
     "output_type": "stream",
     "text": [
      "Matrix size: (126, 2928792)\n"
     ]
    }
   ],
   "source": [
    "efm_matrix = metmod.calculate_efm_matrix(model, log=False)"
   ]
  },
  {
   "cell_type": "code",
   "execution_count": 31,
   "id": "dde6ded0",
   "metadata": {},
   "outputs": [
    {
     "name": "stdout",
     "output_type": "stream",
     "text": [
      "EFM at index 2927507 has 3 non-zero (active) reactions.\n"
     ]
    }
   ],
   "source": [
    "smallest_efm_idx = metmod.find_smallest_efm(efm_matrix)\n",
    "smallest_efm = efm_matrix[:, smallest_efm_idx]"
   ]
  },
  {
   "cell_type": "code",
   "execution_count": 32,
   "id": "d74e6ffe",
   "metadata": {},
   "outputs": [],
   "source": [
    "all_efms = metmod.combine_all_efms(efm_matrix)"
   ]
  },
  {
   "cell_type": "code",
   "execution_count": 33,
   "id": "1b9c2347",
   "metadata": {},
   "outputs": [
    {
     "name": "stdout",
     "output_type": "stream",
     "text": [
      "40 ['ACALD', 'ALCD2x', 'EDA', 'EDD', 'ETOHtrpp', 'FRUptspp', 'GAD2ktpp', 'GLCDpp', 'GNK', 'PPK', 'PTAr', '2DGLCNRx', '2DHGLCNkt_tpp', 'ALCDpp', 'BG_CELLB', 'BGLApp', 'EX_fru_e', 'EX_fum_e', 'EX_mal__L_e', 'EX_succ_e', 'FBA2', 'FRUpts', 'FRUtex', 'HMR_9610', 'MALt4', 'MFUMt8', 'PYK2', 'XYLabc', 'XYLabcpp', 'XYLI1', 'XYLK', 'Biomass', 'CLBtex', 'EX_cellb_e', 'EX_xyl__D_e', 'XYLtex', 'PHAa', 'PHAb', 'PHAc', 'Biomass_putida_core_2']\n"
     ]
    }
   ],
   "source": [
    "not_participating = metmod.find_reaction_not_in_efms(efm_matrix, model)\n",
    "print(len(not_participating), not_participating)"
   ]
  },
  {
   "cell_type": "markdown",
   "id": "b285aea8",
   "metadata": {},
   "source": [
    "Inspect how many EFMs contain a specific reaction. Reaction ID is used."
   ]
  },
  {
   "cell_type": "code",
   "execution_count": null,
   "id": "5d52a450",
   "metadata": {},
   "outputs": [
    {
     "data": {
      "text/plain": [
       "2649850"
      ]
     },
     "execution_count": 34,
     "metadata": {},
     "output_type": "execute_result"
    }
   ],
   "source": [
    "efms_with_biomass = metmod.filter_efms(efm_matrix, ['Biomass_ecoli_core'], model)\n",
    "efms_with_biomass.shape[1]"
   ]
  },
  {
   "cell_type": "markdown",
   "id": "17731d4f",
   "metadata": {},
   "source": [
    "We can again visualise data with Escher; efm_for_escher returns reaction data. Alternatively, reaction data can be saved to a file."
   ]
  },
  {
   "cell_type": "code",
   "execution_count": 36,
   "id": "b5d36ae3",
   "metadata": {},
   "outputs": [
    {
     "data": {
      "application/vnd.jupyter.widget-view+json": {
       "model_id": "c75767c1f3bc4442af2053a972f3ec1f",
       "version_major": 2,
       "version_minor": 0
      },
      "text/plain": [
       "Builder(highlight_missing=False, reaction_data={'ACALD': 0.0, 'ACONTa': 409437331.11470103, 'ACONTb': 40943733…"
      ]
     },
     "metadata": {},
     "output_type": "display_data"
    }
   ],
   "source": [
    "metmod.escher_build(polished_path, map_path, reaction_data=metmod.efm_for_escher(model, all_efms))"
   ]
  },
  {
   "cell_type": "markdown",
   "id": "7b8900d0",
   "metadata": {},
   "source": [
    "#### Gene expression data"
   ]
  },
  {
   "cell_type": "code",
   "execution_count": 29,
   "id": "8d6b725f",
   "metadata": {},
   "outputs": [
    {
     "name": "stdout",
     "output_type": "stream",
     "text": [
      "Filtered CSV saved as expression_data/filtered_core_genes.csv\n"
     ]
    }
   ],
   "source": [
    "gene_expression_data = metmod.filter_gene_csv(os.path.join('expression_data', 'RNASeq2_RAW_CountTable.csv'), 1, 5, os.path.join('expression_data', 'filtered_core_genes.csv'), delim=';', num_prefix='_RS')"
   ]
  },
  {
   "cell_type": "code",
   "execution_count": 30,
   "id": "006bf802",
   "metadata": {},
   "outputs": [
    {
     "name": "stdout",
     "output_type": "stream",
     "text": [
      "Gene rules updated and saved to maps/core_gene_map.json\n"
     ]
    }
   ],
   "source": [
    "metmod.sync_map_genes(polished_path, map_path, 'core_gene_map.json')"
   ]
  },
  {
   "cell_type": "markdown",
   "id": "86d15fce",
   "metadata": {},
   "source": [
    "Mapping transcriptomics data to a map."
   ]
  },
  {
   "cell_type": "code",
   "execution_count": 31,
   "id": "256040fa",
   "metadata": {},
   "outputs": [
    {
     "data": {
      "application/vnd.jupyter.widget-view+json": {
       "model_id": "c88afd0f8f754f3f8ff888b9db339f6b",
       "version_major": 2,
       "version_minor": 0
      },
      "text/plain": [
       "Builder(gene_data=[{'IS481_RS00005': 5078.17, 'IS481_RS00010': 2682.0, 'IS481_RS00015': 7094.0, 'IS481_RS00020…"
      ]
     },
     "metadata": {},
     "output_type": "display_data"
    }
   ],
   "source": [
    "metmod.escher_build(polished_path, os.path.join('maps', 'core_gene_map.json'), gene_data=gene_expression_data)"
   ]
  }
 ],
 "metadata": {
  "kernelspec": {
   "display_name": "bio",
   "language": "python",
   "name": "python3"
  },
  "language_info": {
   "codemirror_mode": {
    "name": "ipython",
    "version": 3
   },
   "file_extension": ".py",
   "mimetype": "text/x-python",
   "name": "python",
   "nbconvert_exporter": "python",
   "pygments_lexer": "ipython3",
   "version": "3.9.18"
  }
 },
 "nbformat": 4,
 "nbformat_minor": 5
}
