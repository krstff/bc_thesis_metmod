{
 "cells": [
  {
   "cell_type": "markdown",
   "id": "a45595b6",
   "metadata": {},
   "source": [
    "# Genome-scale reconstruction workflow"
   ]
  },
  {
   "cell_type": "markdown",
   "id": "902750f6",
   "metadata": {},
   "source": [
    "This notebook serves as a step-by-step workflow for improving or reconstructing metabolic models and showcasing the functionality of the MetMod library.\n",
    "\n",
    "It is a part of a bachelor's thesis, where the theoretical aspects of metabolic model reconstruction are introduced and discussed."
   ]
  },
  {
   "cell_type": "markdown",
   "id": "fd25490e",
   "metadata": {
    "vscode": {
     "languageId": "plaintext"
    }
   },
   "source": [
    "## 0. Dependencies and setup"
   ]
  },
  {
   "cell_type": "markdown",
   "id": "4f73670f",
   "metadata": {},
   "source": [
    "We recommend using Python 3.9 as this version's functionality has been tested.\n",
    "\n",
    "The following libraries are required:\n",
    "* cobra, escher, networkx, matplotlib, xlsxwriter, pandas, numpy, openpyxl\n",
    "\n",
    "Additional:\n",
    "* ModelPolisher, efmtool, Cplex\n",
    "* libsbml - https://sbml.org/software/libsbml/libsbml-docs/installation/\n",
    "\n",
    "If there are any problems with Escher visualisation, refer to https://escher.readthedocs.io/en/latest/escher-python.html#Installation, as further Jupyter extensions may be required. When using a conda environment, make sure Jupyter is installed inside it. These commands worked when testing:\n",
    "* jupyter labextension install @jupyter-widgets/jupyterlab-manager\n",
    "* jupyter labextension install escher\n",
    "\n",
    "We recommend using the academic or commercial license of Cplex for optimisation; the free version will not work due to the size of metabolic models."
   ]
  },
  {
   "cell_type": "markdown",
   "id": "e0a4dbcb",
   "metadata": {},
   "source": [
    "Using a Conda environment is encouraged; the following cell contains commands tested to create a Conda environment and enable Escher visualisation within a Jupyter notebook."
   ]
  },
  {
   "cell_type": "code",
   "execution_count": null,
   "id": "d8a04878",
   "metadata": {},
   "outputs": [],
   "source": [
    "# conda create --name metmod-test python=3.9 -y\n",
    "# conda activate metmod-test\n",
    "# conda install pip -y\n",
    "# conda install jupyter\n",
    "# pip install escher notebook\n",
    "# jupyter labextension install @jupyter-widgets/jupyterlab-manager\n",
    "# jupyter labextension install escher"
   ]
  },
  {
   "cell_type": "markdown",
   "id": "c4570361",
   "metadata": {},
   "source": [
    "Run the following cell in order to install dependencies"
   ]
  },
  {
   "cell_type": "code",
   "execution_count": null,
   "id": "3ac1c0dc",
   "metadata": {},
   "outputs": [],
   "source": [
    "%pip install cobra escher networkx git+https://github.com/draeger-lab/MPClient.git matplotlib xlsxwriter pandas numpy efmtool openpyxl"
   ]
  },
  {
   "cell_type": "code",
   "execution_count": null,
   "id": "5b479406",
   "metadata": {},
   "outputs": [],
   "source": [
    "import cobra, escher, libsbml, os\n",
    "import numpy as np\n",
    "import matplotlib as plt\n",
    "import networkx as nx\n",
    "import metmod"
   ]
  },
  {
   "cell_type": "code",
   "execution_count": null,
   "id": "47fc7ba9",
   "metadata": {},
   "outputs": [],
   "source": [
    "model_name = 'ToyModel'"
   ]
  },
  {
   "cell_type": "code",
   "execution_count": null,
   "id": "606fbb96",
   "metadata": {},
   "outputs": [],
   "source": [
    "# Some models created by automated tools will have some issues, like not having flux bounds set\n",
    "# correctly, in order to suppress warnings run this cell\n",
    "import logging\n",
    "\n",
    "logging.getLogger('cobra').setLevel(logging.ERROR)"
   ]
  },
  {
   "cell_type": "markdown",
   "id": "223c19d6",
   "metadata": {},
   "source": [
    "## 1. Draft reconstruction"
   ]
  },
  {
   "cell_type": "markdown",
   "id": "ad616d9e",
   "metadata": {},
   "source": [
    "A draft reconstruction is expected as input; we recommend using an automated software designed for this purpose, such as PathwayTools - PathoLogic or CarveMe."
   ]
  },
  {
   "cell_type": "markdown",
   "id": "04d30698",
   "metadata": {},
   "source": [
    "### Standardising nomenclature"
   ]
  },
  {
   "cell_type": "markdown",
   "id": "701d5101",
   "metadata": {},
   "source": [
    "ModelPolisher is used in order to standardise and polish annotations of the draft reconstruction.\n",
    "\n",
    "**NOTE** polishing bigger models (>1000 reactions) may take up to few minutes"
   ]
  },
  {
   "cell_type": "code",
   "execution_count": null,
   "id": "29072e47",
   "metadata": {},
   "outputs": [],
   "source": [
    "input_path = os.path.join('input', 'input.xml')"
   ]
  },
  {
   "cell_type": "code",
   "execution_count": null,
   "id": "ef3d7248",
   "metadata": {},
   "outputs": [],
   "source": [
    "polished_path = os.path.join('models', f'{model_name}_polished.xml')"
   ]
  },
  {
   "cell_type": "code",
   "execution_count": null,
   "id": "5e09d792",
   "metadata": {},
   "outputs": [],
   "source": [
    "metmod.polish_model(input_path, polished_path, print_diff=True)"
   ]
  },
  {
   "cell_type": "markdown",
   "id": "c21315b7",
   "metadata": {},
   "source": [
    "## 2. First assessment"
   ]
  },
  {
   "cell_type": "markdown",
   "id": "0c2001cd",
   "metadata": {},
   "source": [
    "In the section we will take a first look at the draft reconstruction. We highly encourage the use of Cytoscape for this step."
   ]
  },
  {
   "cell_type": "markdown",
   "id": "ec7c72ab",
   "metadata": {},
   "source": [
    "### Escher"
   ]
  },
  {
   "cell_type": "markdown",
   "id": "50c8e1d0",
   "metadata": {},
   "source": [
    "While Escher does not provide a way to visualise the entire network, it allows for easy mapping of the model to an existing visualisation.\n",
    "\n",
    "However, the IDs in the model must match the IDs in the map, depending on the software used for draft reconstruction **this approach may not work**."
   ]
  },
  {
   "cell_type": "code",
   "execution_count": null,
   "id": "d2ee3c4c",
   "metadata": {},
   "outputs": [],
   "source": [
    "# The available maps are listed by the following command.\n",
    "escher.list_available_maps()"
   ]
  },
  {
   "cell_type": "code",
   "execution_count": null,
   "id": "9fd74f00",
   "metadata": {},
   "outputs": [],
   "source": [
    "map_path = os.path.join('maps', 'e_coli_core.Core metabolism.json')"
   ]
  },
  {
   "cell_type": "markdown",
   "id": "9671a55c",
   "metadata": {},
   "source": [
    "Escher provides a Builder class where all settings are configured. Here we use an existing map with our model."
   ]
  },
  {
   "cell_type": "code",
   "execution_count": null,
   "id": "4a222d09",
   "metadata": {},
   "outputs": [],
   "source": [
    "metmod.escher_build(polished_path, 'e_coli_core.Core metabolism', online_map=True, highlight_missing=True)"
   ]
  },
  {
   "cell_type": "markdown",
   "id": "98221ea2",
   "metadata": {},
   "source": [
    "Reactions highlighted in red are missing from the model; however note that this may also be the cause of using different nomenclature."
   ]
  },
  {
   "cell_type": "markdown",
   "id": "41b828fa",
   "metadata": {},
   "source": [
    "When using Pathologic, for example, there will be nomenclature differences. Therefore, the following function tries to scrape BiGG identifiers provided by ModelPolisher and change the nomenclature of an Escher map."
   ]
  },
  {
   "cell_type": "code",
   "execution_count": null,
   "id": "e5b79866",
   "metadata": {},
   "outputs": [],
   "source": [
    "metmod.escher_map_sync(map_path, polished_path)"
   ]
  },
  {
   "cell_type": "code",
   "execution_count": null,
   "id": "8844ae91",
   "metadata": {},
   "outputs": [],
   "source": [
    "renamed_map = os.path.join('maps', 'renamed_e_coli_core.Core metabolism.json')"
   ]
  },
  {
   "cell_type": "code",
   "execution_count": null,
   "id": "362b2508",
   "metadata": {},
   "outputs": [],
   "source": [
    "metmod.escher_build(polished_path, renamed_map, highlight_missing=True)"
   ]
  },
  {
   "cell_type": "markdown",
   "id": "15eb56a1",
   "metadata": {},
   "source": [
    "Hopefully some pathways are now blue, if that is not the case manual renaming is required."
   ]
  },
  {
   "cell_type": "markdown",
   "id": "6e6bc5e5",
   "metadata": {},
   "source": [
    "### Topology analysis"
   ]
  },
  {
   "cell_type": "markdown",
   "id": "9189ebc6",
   "metadata": {},
   "source": [
    "NetworkX is used for graph algorithms, some wrappers are present in MetMod."
   ]
  },
  {
   "cell_type": "code",
   "execution_count": null,
   "id": "abdb77c4",
   "metadata": {},
   "outputs": [],
   "source": [
    "model = cobra.io.read_sbml_model(polished_path)"
   ]
  },
  {
   "cell_type": "markdown",
   "id": "c11a4fea",
   "metadata": {},
   "source": [
    "Firstly, a function that creates a directed G graph is called."
   ]
  },
  {
   "cell_type": "code",
   "execution_count": null,
   "id": "6b9a5ba7",
   "metadata": {},
   "outputs": [],
   "source": [
    "G = metmod.create_metabolic_graph(model)"
   ]
  },
  {
   "cell_type": "code",
   "execution_count": null,
   "id": "22311db8",
   "metadata": {},
   "outputs": [],
   "source": [
    "# Print out nodes sorted by node degree (+reversed)\n",
    "metmod.print_degree_sorted(G)"
   ]
  },
  {
   "cell_type": "code",
   "execution_count": null,
   "id": "cb941c98",
   "metadata": {},
   "outputs": [],
   "source": [
    "metmod.print_degree_distribution(G)"
   ]
  },
  {
   "cell_type": "code",
   "execution_count": null,
   "id": "d38d9def",
   "metadata": {},
   "outputs": [],
   "source": [
    "# Single node strongly connected components are omitted\n",
    "metmod.print_strongly_connected(G)"
   ]
  },
  {
   "cell_type": "markdown",
   "id": "433fa45c",
   "metadata": {},
   "source": [
    "Some helper functions should make it easy to work with the graph, as naming can be unintuitive. Creation of variables instead of relying on strings is encouraged."
   ]
  },
  {
   "cell_type": "code",
   "execution_count": null,
   "id": "e214b993",
   "metadata": {},
   "outputs": [],
   "source": [
    "# Inspect all node names\n",
    "# metmod.print_graph_nodes_names()\n",
    "# Find for names containing a string\n",
    "metmod.find_graph_names_with(G, 'ADP')"
   ]
  },
  {
   "cell_type": "code",
   "execution_count": null,
   "id": "5c8aede2",
   "metadata": {},
   "outputs": [],
   "source": [
    "glu = metmod.get_id_by_name(G, 'D-Glucose')\n",
    "pyr = metmod.get_id_by_name(G, 'Pyruvate')\n",
    "eno = metmod.get_id_by_name(G, 'Enolase')"
   ]
  },
  {
   "cell_type": "code",
   "execution_count": null,
   "id": "a2840219",
   "metadata": {},
   "outputs": [],
   "source": [
    "metmod.print_neighbors(G, glu)"
   ]
  },
  {
   "cell_type": "code",
   "execution_count": null,
   "id": "1bdcce76",
   "metadata": {},
   "outputs": [],
   "source": [
    "_, named = metmod.find_paths(G, glu, pyr, [eno], 10, print_path=True)"
   ]
  },
  {
   "cell_type": "code",
   "execution_count": null,
   "id": "c5b615b5",
   "metadata": {},
   "outputs": [],
   "source": [
    "print(metmod.get_id_by_name(G, 'ADP'))"
   ]
  },
  {
   "cell_type": "code",
   "execution_count": null,
   "id": "86136a92",
   "metadata": {},
   "outputs": [],
   "source": [
    "# Threshold needs to be tinkered with and set based on degree distribution\n",
    "# Check if any important nodes were deleted\n",
    "pruned_G = metmod.prune_graph(G, 30, [pyr])\n",
    "\n",
    "# Manually delete some nodes\n",
    "pruned_G = metmod.delete_nodes_by_id(pruned_G, ['adp_c', metmod.get_id_by_name(G, 'Ecoli_core model biomass')])\n",
    " \n",
    "ids, named = metmod.find_paths(pruned_G, glu, pyr, [eno], 10, print_path=True)"
   ]
  },
  {
   "cell_type": "markdown",
   "id": "cbae74c6",
   "metadata": {},
   "source": [
    "## 3. Iterative workflow"
   ]
  },
  {
   "cell_type": "markdown",
   "id": "45ca6db4",
   "metadata": {},
   "source": [
    "### 3.1 Refinement"
   ]
  },
  {
   "cell_type": "markdown",
   "id": "7f152ede",
   "metadata": {},
   "source": [
    "Firstly we will create additional files in order to ease manual refinement of model."
   ]
  },
  {
   "cell_type": "code",
   "execution_count": null,
   "id": "f8702098",
   "metadata": {},
   "outputs": [],
   "source": [
    "xlsx_path = os.path.join('models', f'{model_name}.xlsx')"
   ]
  },
  {
   "cell_type": "code",
   "execution_count": null,
   "id": "ad21ded1",
   "metadata": {},
   "outputs": [],
   "source": [
    "model = cobra.io.read_sbml_model(polished_path)\n",
    "# Create a xlsx file from cobra model\n",
    "metmod.cobra_to_xlsx(model, xlsx_path)"
   ]
  },
  {
   "cell_type": "code",
   "execution_count": null,
   "id": "d1c8ef45",
   "metadata": {},
   "outputs": [],
   "source": [
    "# Sync xlsx file with SBML and json\n",
    "metmod.sync_xlsx(xlsx_path, os.path.join('models', model_name))"
   ]
  },
  {
   "cell_type": "code",
   "execution_count": null,
   "id": "2355b22c",
   "metadata": {},
   "outputs": [],
   "source": [
    "# Optionally load a cobra model from xlsx\n",
    "model = metmod.xlsx_to_cobra(xlsx_path, model_name)"
   ]
  },
  {
   "cell_type": "markdown",
   "id": "6d541bfa",
   "metadata": {},
   "source": [
    "Additionally, for working with Escher maps and creating a core model, a function which deletes all compounds not present in a map is available. "
   ]
  },
  {
   "cell_type": "code",
   "execution_count": null,
   "id": "ff03d602",
   "metadata": {},
   "outputs": [],
   "source": [
    "metmod.mini_model_prune(map_path, polished_path, f'mini_{model_name}')\n",
    "mini_model_path = f'mini_{model_name}.xml'"
   ]
  },
  {
   "cell_type": "markdown",
   "id": "06c5ea73",
   "metadata": {},
   "source": [
    "### 3.2 Cross checking"
   ]
  },
  {
   "cell_type": "markdown",
   "id": "2fab6230",
   "metadata": {},
   "source": [
    "#### Flux Balance Analysis"
   ]
  },
  {
   "cell_type": "markdown",
   "id": "dada5a2b",
   "metadata": {},
   "source": [
    "Make sure the model has an objective function."
   ]
  },
  {
   "cell_type": "code",
   "execution_count": null,
   "id": "a5a4d5e4",
   "metadata": {},
   "outputs": [],
   "source": [
    "print(model.objective)          # Shows the symbolic expression\n",
    "print(model.objective.expression)  # Explicit formula (reaction * coefficient)\n",
    "print(model.objective.direction)   # 'max' or 'min'"
   ]
  },
  {
   "cell_type": "code",
   "execution_count": null,
   "id": "2d26b940",
   "metadata": {},
   "outputs": [],
   "source": [
    "# If the model contains a biomass reaction, it can be set as objective:\n",
    "biomass = model.reactions.get_by_id('Biomass')\n",
    "model.objective = biomass"
   ]
  },
  {
   "cell_type": "markdown",
   "id": "bcd7135f",
   "metadata": {},
   "source": [
    "A quick way to test a biomass function may be to use an existing one from a different model, metmod.filter_reaction deletes all metabolites in the reaction that are not found in the model."
   ]
  },
  {
   "cell_type": "code",
   "execution_count": null,
   "id": "5f64723f",
   "metadata": {},
   "outputs": [],
   "source": [
    "ecoli_biomass_core = \"\"\"\n",
    "1.496 3pg_c + 3.7478 accoa_c + 59.81 atp_c + 0.361 e4p_c + 0.0709 f6p_c + 0.129 g3p_c + 0.205 g6p_c + 0.2557 gln__L_c +\n",
    "4.9414 glu__L_c + 59.81 h2o_c + 3.547 nad_c + 13.0279 nadph_c + 1.7867 oaa_c + 0.5191 pep_c + 2.8328 pyr_c + 0.8977 r5p_c \n",
    "→ 59.81 adp_c + 4.1182 akg_c + 3.7478 coa_c + 59.81 h_c + 3.547 nadh_c + 13.0279 nadp_c + 59.81 pi_c\n",
    "\"\"\"\n",
    "# metmod.filter_reaction(ecoli_biomass_core, model, arrow_symbol=\"→\")\n",
    "# filter_reaction_bigg additionally renames metabolites in the formula to match metabolites in the model, uses ModelPoliher BiGG annotation\n",
    "reaction = metmod.filter_reaction_bigg(ecoli_biomass_core, polished_path, arrow_symbol=\"→\")\n",
    "print(reaction)"
   ]
  },
  {
   "cell_type": "code",
   "execution_count": null,
   "id": "63b89727",
   "metadata": {},
   "outputs": [],
   "source": [
    "# With formula string, we can add the objective function\n",
    "metmod.add_objective_function(reaction, model)"
   ]
  },
  {
   "cell_type": "code",
   "execution_count": null,
   "id": "68be40fc",
   "metadata": {},
   "outputs": [],
   "source": [
    "solution = model.optimize()\n",
    "solution"
   ]
  },
  {
   "cell_type": "markdown",
   "id": "dc28207a",
   "metadata": {},
   "source": [
    "Run and visualise FBA in Escher"
   ]
  },
  {
   "cell_type": "code",
   "execution_count": null,
   "id": "f437d6b1",
   "metadata": {},
   "outputs": [],
   "source": [
    "metmod.escher_build(polished_path, renamed_map, reaction_data=model.optimize().fluxes)"
   ]
  },
  {
   "cell_type": "markdown",
   "id": "b783d2ff",
   "metadata": {},
   "source": [
    "Knockout a gene."
   ]
  },
  {
   "cell_type": "code",
   "execution_count": null,
   "id": "796f0d15",
   "metadata": {},
   "outputs": [],
   "source": [
    "print(model.genes)"
   ]
  },
  {
   "cell_type": "code",
   "execution_count": null,
   "id": "1ce99576",
   "metadata": {},
   "outputs": [],
   "source": [
    "model.genes.IS481_03595.knock_out()"
   ]
  },
  {
   "cell_type": "code",
   "execution_count": null,
   "id": "0a2ddddd",
   "metadata": {},
   "outputs": [],
   "source": [
    "metmod.escher_build(polished_path, renamed_map, reaction_data=model.optimize().fluxes)"
   ]
  },
  {
   "cell_type": "markdown",
   "id": "d6f505b9",
   "metadata": {},
   "source": [
    "#### Elementary Flux Mode analysis\n",
    "* Note that efmtool requires Java 8; one way of switching Java versions is as follows: export JAVA_HOME=$(/usr/libexec/java_home -v 1.8)"
   ]
  },
  {
   "cell_type": "markdown",
   "id": "7e40ab01",
   "metadata": {},
   "source": [
    "*Since enumerating EFMs is complex, we will not use it on the draft model.*"
   ]
  },
  {
   "cell_type": "code",
   "execution_count": null,
   "id": "764e30fc",
   "metadata": {},
   "outputs": [],
   "source": [
    "model = cobra.io.read_sbml_model(polished_path)"
   ]
  },
  {
   "cell_type": "markdown",
   "id": "f6444e3e",
   "metadata": {},
   "source": [
    "If the cell is taking a long time to run, try turning the logger on to see if there is an issue."
   ]
  },
  {
   "cell_type": "code",
   "execution_count": null,
   "id": "664ea36f",
   "metadata": {},
   "outputs": [],
   "source": [
    "efm_matrix = metmod.calculate_efm_matrix(model, log=True)"
   ]
  },
  {
   "cell_type": "code",
   "execution_count": null,
   "id": "dde6ded0",
   "metadata": {},
   "outputs": [],
   "source": [
    "smallest_efm_idx = metmod.find_smallest_efm(efm_matrix)\n",
    "smallest_efm = efm_matrix[:, smallest_efm_idx]"
   ]
  },
  {
   "cell_type": "code",
   "execution_count": null,
   "id": "d74e6ffe",
   "metadata": {},
   "outputs": [],
   "source": [
    "all_efms = metmod.combine_all_efms(efm_matrix)"
   ]
  },
  {
   "cell_type": "code",
   "execution_count": null,
   "id": "1b9c2347",
   "metadata": {},
   "outputs": [],
   "source": [
    "print(metmod.find_reaction_not_in_efms(efm_matrix, model))"
   ]
  },
  {
   "cell_type": "markdown",
   "id": "17731d4f",
   "metadata": {},
   "source": [
    "We can again visualise data with Escher; efm_for_escher returns reaction data. Alternatively, reaction data can be saved to a file."
   ]
  },
  {
   "cell_type": "code",
   "execution_count": null,
   "id": "b5d36ae3",
   "metadata": {},
   "outputs": [],
   "source": [
    "metmod.escher_build(polished_path, \"renamed_e_coli_core.Core metabolism.json\", reaction_data=metmod.efm_for_escher(model, all_efms))"
   ]
  },
  {
   "cell_type": "markdown",
   "id": "b285aea8",
   "metadata": {},
   "source": [
    "Check how many EFMs contain a specific reaction. Reaction ID is used."
   ]
  },
  {
   "cell_type": "code",
   "execution_count": null,
   "id": "5d52a450",
   "metadata": {},
   "outputs": [],
   "source": [
    "efms_with_biomass = metmod.filter_efms(efm_matrix, [\"BIOMASS_Ecoli_core_w_GAM\"], model)\n",
    "len(efms_with_biomass)"
   ]
  },
  {
   "cell_type": "markdown",
   "id": "7b8900d0",
   "metadata": {},
   "source": [
    "#### Gene expression data"
   ]
  },
  {
   "cell_type": "code",
   "execution_count": null,
   "id": "8d6b725f",
   "metadata": {},
   "outputs": [],
   "source": [
    "gene_expression_data = metmod.filter_gene_csv(os.path.join('expression_data', 'RNASeq2_RAW_CountTable.csv'), 1, 5, os.path.join('expression_data', 'filtered_draft_genes.csv'), delim=';')"
   ]
  },
  {
   "cell_type": "code",
   "execution_count": null,
   "id": "006bf802",
   "metadata": {},
   "outputs": [],
   "source": [
    "metmod.sync_map_genes(polished_path, renamed_map, 'draft_gene_map.json')"
   ]
  },
  {
   "cell_type": "markdown",
   "id": "86d15fce",
   "metadata": {},
   "source": [
    "Mapping transcriptomics data to a map.\n",
    "\n",
    "If gene data is not showing properly, manually import it in Escher. *Data -> Load gene data*"
   ]
  },
  {
   "cell_type": "code",
   "execution_count": null,
   "id": "256040fa",
   "metadata": {},
   "outputs": [],
   "source": [
    "metmod.escher_build(polished_path, os.path.join('maps', 'draft_gene_map.json'), gene_data=gene_expression_data,)"
   ]
  }
 ],
 "metadata": {
  "kernelspec": {
   "display_name": "bio",
   "language": "python",
   "name": "python3"
  },
  "language_info": {
   "codemirror_mode": {
    "name": "ipython",
    "version": 3
   },
   "file_extension": ".py",
   "mimetype": "text/x-python",
   "name": "python",
   "nbconvert_exporter": "python",
   "pygments_lexer": "ipython3",
   "version": "3.9.18"
  }
 },
 "nbformat": 4,
 "nbformat_minor": 5
}
